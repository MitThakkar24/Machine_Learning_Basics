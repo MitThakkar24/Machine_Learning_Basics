{
 "cells": [
  {
   "cell_type": "markdown",
   "id": "e996548a",
   "metadata": {},
   "source": [
    "# Handling Outliers "
   ]
  },
  {
   "cell_type": "markdown",
   "id": "6015f830",
   "metadata": {},
   "source": [
    "# 5 Number Summary \n",
    "1. Minimum Value\n",
    "2. Q1 - 25% \n",
    "3. Median \n",
    "4. Q3 - 75%\n",
    "5. Maximum "
   ]
  },
  {
   "cell_type": "code",
   "execution_count": 1,
   "id": "0db653c9",
   "metadata": {},
   "outputs": [],
   "source": [
    "import numpy as np "
   ]
  },
  {
   "cell_type": "code",
   "execution_count": 5,
   "id": "5c9b49fe",
   "metadata": {},
   "outputs": [],
   "source": [
    "lst_marks=[45,32,56,75,89,54,32,89,90,87,67,54,45,98,99,67,74,1000,1100]"
   ]
  },
  {
   "cell_type": "code",
   "execution_count": 6,
   "id": "85ca9f00",
   "metadata": {},
   "outputs": [
    {
     "data": {
      "text/plain": [
       "array([54.])"
      ]
     },
     "execution_count": 6,
     "metadata": {},
     "output_type": "execute_result"
    }
   ],
   "source": [
    "np.percentile(lst_marks,[25])"
   ]
  },
  {
   "cell_type": "code",
   "execution_count": 7,
   "id": "36d243fd",
   "metadata": {},
   "outputs": [
    {
     "data": {
      "text/plain": [
       "array([54.])"
      ]
     },
     "execution_count": 7,
     "metadata": {},
     "output_type": "execute_result"
    }
   ],
   "source": [
    "## Range With Lower Fence and higher fence\n",
    "Q1 = np.percentile(lst_marks,[25])\n",
    "Q1"
   ]
  },
  {
   "cell_type": "code",
   "execution_count": 8,
   "id": "55394b8c",
   "metadata": {},
   "outputs": [],
   "source": [
    "minimum, Q1, Q2,Q3, maximum = np.quantile(lst_marks,[0,0.25,0.50,0.75,1.0])"
   ]
  },
  {
   "cell_type": "code",
   "execution_count": 12,
   "id": "9ee4cd8a",
   "metadata": {},
   "outputs": [
    {
     "data": {
      "text/plain": [
       "35.5"
      ]
     },
     "execution_count": 12,
     "metadata": {},
     "output_type": "execute_result"
    }
   ],
   "source": [
    "IQR = Q3 - Q1\n",
    "\n",
    "IQR"
   ]
  },
  {
   "cell_type": "code",
   "execution_count": 13,
   "id": "09dc59ed",
   "metadata": {},
   "outputs": [],
   "source": [
    "lower_fence = Q1 - 1.5*(IQR)\n",
    "higher_fence = Q3 + 1.5*(IQR)"
   ]
  },
  {
   "cell_type": "code",
   "execution_count": 14,
   "id": "b232304d",
   "metadata": {},
   "outputs": [
    {
     "data": {
      "text/plain": [
       "(0.75, 142.75)"
      ]
     },
     "execution_count": 14,
     "metadata": {},
     "output_type": "execute_result"
    }
   ],
   "source": [
    "lower_fence,higher_fence"
   ]
  },
  {
   "cell_type": "code",
   "execution_count": 17,
   "id": "0a6ef46c",
   "metadata": {},
   "outputs": [],
   "source": [
    "outliers = []\n",
    "not_outliers = []\n",
    "for i in lst_marks:\n",
    "    if i>=lower_fence and i<=higher_fence:\n",
    "        not_outliers.append(i)\n",
    "    else:\n",
    "        outliers.append(i)"
   ]
  },
  {
   "cell_type": "code",
   "execution_count": 18,
   "id": "790bbda3",
   "metadata": {},
   "outputs": [
    {
     "data": {
      "text/plain": [
       "[1000, 1100]"
      ]
     },
     "execution_count": 18,
     "metadata": {},
     "output_type": "execute_result"
    }
   ],
   "source": [
    "outliers"
   ]
  },
  {
   "cell_type": "code",
   "execution_count": 19,
   "id": "17b9f41c",
   "metadata": {},
   "outputs": [
    {
     "data": {
      "text/plain": [
       "[45, 32, 56, 75, 89, 54, 32, 89, 90, 87, 67, 54, 45, 98, 99, 67, 74]"
      ]
     },
     "execution_count": 19,
     "metadata": {},
     "output_type": "execute_result"
    }
   ],
   "source": [
    "not_outliers"
   ]
  },
  {
   "cell_type": "code",
   "execution_count": 20,
   "id": "6f2983d5",
   "metadata": {},
   "outputs": [],
   "source": [
    "import seaborn as sns"
   ]
  },
  {
   "cell_type": "code",
   "execution_count": 23,
   "id": "78c3a082",
   "metadata": {},
   "outputs": [
    {
     "data": {
      "text/plain": [
       "<AxesSubplot:>"
      ]
     },
     "execution_count": 23,
     "metadata": {},
     "output_type": "execute_result"
    },
    {
     "data": {
      "image/png": "[encoded data removed]",
      "text/plain": [
       "<Figure size 432x288 with 1 Axes>"
      ]
     },
     "metadata": {
      "needs_background": "light"
     },
     "output_type": "display_data"
    }
   ],
   "source": [
    "sns.boxplot(data = lst_marks)"
   ]
  },
  {
   "cell_type": "code",
   "execution_count": 24,
   "id": "4fd1102b",
   "metadata": {},
   "outputs": [
    {
     "data": {
      "text/plain": [
       "<AxesSubplot:>"
      ]
     },
     "execution_count": 24,
     "metadata": {},
     "output_type": "execute_result"
    },
    {
     "data": {
      "image/png": "[encoded data removed]",
      "text/plain": [
       "<Figure size 432x288 with 1 Axes>"
      ]
     },
     "metadata": {
      "needs_background": "light"
     },
     "output_type": "display_data"
    }
   ],
   "source": [
    "sns.boxplot(data = not_outliers)"
   ]
  }
 ],
 "metadata": {
  "kernelspec": {
   "display_name": "Python 3 (ipykernel)",
   "language": "python",
   "name": "python3"
  },
  "language_info": {
   "codemirror_mode": {
    "name": "ipython",
    "version": 3
   },
   "file_extension": ".py",
   "mimetype": "text/x-python",
   "name": "python",
   "nbconvert_exporter": "python",
   "pygments_lexer": "ipython3",
   "version": "3.9.7"
  }
 },
 "nbformat": 4,
 "nbformat_minor": 5
}
